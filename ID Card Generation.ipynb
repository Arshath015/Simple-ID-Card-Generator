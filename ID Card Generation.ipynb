{
 "cells": [
  {
   "cell_type": "code",
   "execution_count": 1,
   "id": "c7d89204-c381-4f9c-a454-3bace16a5a8e",
   "metadata": {},
   "outputs": [
    {
     "name": "stdout",
     "output_type": "stream",
     "text": [
      "Requirement already satisfied: pillow in c:\\users\\arsha\\anaconda3\\lib\\site-packages (10.3.0)Note: you may need to restart the kernel to use updated packages.\n",
      "\n",
      "Requirement already satisfied: qrcode in c:\\users\\arsha\\anaconda3\\lib\\site-packages (7.4.2)\n",
      "Collecting xlsxwriter\n",
      "  Downloading XlsxWriter-3.2.0-py3-none-any.whl.metadata (2.6 kB)\n",
      "Requirement already satisfied: typing-extensions in c:\\users\\arsha\\anaconda3\\lib\\site-packages (from qrcode) (4.11.0)\n",
      "Requirement already satisfied: pypng in c:\\users\\arsha\\anaconda3\\lib\\site-packages (from qrcode) (0.20220715.0)\n",
      "Requirement already satisfied: colorama in c:\\users\\arsha\\anaconda3\\lib\\site-packages (from qrcode) (0.4.6)\n",
      "Downloading XlsxWriter-3.2.0-py3-none-any.whl (159 kB)\n",
      "   ---------------------------------------- 0.0/159.9 kB ? eta -:--:--\n",
      "   ------- ------------------------------- 30.7/159.9 kB 660.6 kB/s eta 0:00:01\n",
      "   ------------------- ------------------- 81.9/159.9 kB 919.0 kB/s eta 0:00:01\n",
      "   ------------------------------ --------- 122.9/159.9 kB 1.0 MB/s eta 0:00:01\n",
      "   ---------------------------------------- 159.9/159.9 kB 1.1 MB/s eta 0:00:00\n",
      "Installing collected packages: xlsxwriter\n",
      "Successfully installed xlsxwriter-3.2.0\n"
     ]
    }
   ],
   "source": [
    "pip install pillow qrcode xlsxwriter"
   ]
  },
  {
   "cell_type": "code",
   "execution_count": 4,
   "id": "ca0604e1-5606-4d98-bcc4-a20bd0f4eac9",
   "metadata": {},
   "outputs": [],
   "source": [
    "from PIL import Image, ImageDraw, ImageFont\n",
    "import qrcode\n",
    "import io\n",
    "import xlsxwriter\n",
    "import os"
   ]
  },
  {
   "cell_type": "code",
   "execution_count": 8,
   "id": "6aee9896-331a-4846-aa44-e907a05dd5ac",
   "metadata": {},
   "outputs": [],
   "source": [
    "# Function to generate the ID card\n",
    "def generate_id_card(name, student_id, department, phone, college, blood_group, website_url, output_file='id_card.png'):\n",
    "    # Create an ID card template\n",
    "    card_width, card_height = 600, 300\n",
    "    background_color = (255, 255, 255)\n",
    "    \n",
    "    # Create a blank image for the ID card\n",
    "    card = Image.new('RGB', (card_width, card_height), background_color)\n",
    "    draw = ImageDraw.Draw(card)\n",
    "\n",
    "    # Define font and text positions\n",
    "    font = ImageFont.truetype(\"arial.ttf\", 20)\n",
    "    small_font = ImageFont.truetype(\"arial.ttf\", 16)\n",
    "    name_position = (20, 20)\n",
    "    student_id_position = (20, 60)\n",
    "    department_position = (20, 100)\n",
    "    phone_position = (20, 140)\n",
    "    college_position = (20, 180)\n",
    "    blood_group_position = (20, 220)\n",
    "\n",
    "    # Add text to the ID card\n",
    "    draw.text(name_position, f\"Name: {name}\", fill=\"black\", font=font)\n",
    "    draw.text(student_id_position, f\"Student ID: {student_id}\", fill=\"black\", font=font)\n",
    "    draw.text(department_position, f\"Department: {department}\", fill=\"black\", font=font)\n",
    "    draw.text(phone_position, f\"Phone: {phone}\", fill=\"black\", font=small_font)\n",
    "    draw.text(college_position, f\"College: {college}\", fill=\"black\", font=font)\n",
    "    draw.text(blood_group_position, f\"Blood Group: {blood_group}\", fill=\"black\", font=font)\n",
    "    \n",
    "    # Generate QR code\n",
    "    qr = qrcode.QRCode(box_size=5, border=2)\n",
    "    qr.add_data(website_url)\n",
    "    qr.make(fit=True)\n",
    "    \n",
    "    qr_img = qr.make_image(fill_color=\"black\", back_color=\"white\")\n",
    "    qr_img = qr_img.resize((100, 100))\n",
    "    \n",
    "    # Position for QR code\n",
    "    qr_position = (card_width - 120, card_height - 120)\n",
    "    card.paste(qr_img, qr_position)\n",
    "    \n",
    "    # Save the ID card image\n",
    "    card.save(output_file)\n",
    "    return card\n",
    "\n",
    "# Function to store details in an Excel file\n",
    "def store_details_in_excel(details, excel_file='id_card_details.xlsx'):\n",
    "    # Check if the Excel file already exists\n",
    "    file_exists = os.path.isfile(excel_file)\n",
    "    \n",
    "    # Open the Excel file and add data\n",
    "    workbook = xlsxwriter.Workbook(excel_file)\n",
    "    worksheet = workbook.add_worksheet()\n",
    "    \n",
    "    # Define the headers\n",
    "    headers = ['Name', 'Student ID', 'Department', 'Phone', 'College', 'Blood Group', 'Website URL']\n",
    "    \n",
    "    # Write headers if the file is new\n",
    "    if not file_exists:\n",
    "        for col_num, header in enumerate(headers):\n",
    "            worksheet.write(0, col_num, header)\n",
    "    \n",
    "    # Find the first empty row in the file\n",
    "    row = 1\n",
    "    while worksheet.cell(row, 0).value:\n",
    "        row += 1\n",
    "\n",
    "    # Write the details to the next empty row\n",
    "    for col_num, value in enumerate(details):\n",
    "        worksheet.write(row, col_num, value)\n",
    "    \n",
    "    workbook.close()"
   ]
  },
  {
   "cell_type": "code",
   "execution_count": 9,
   "id": "f2a2160d-c7e5-447a-b6ca-3549a51ee569",
   "metadata": {},
   "outputs": [
    {
     "name": "stdin",
     "output_type": "stream",
     "text": [
      "Enter your name:  Arshath\n",
      "Enter your Student ID:  11\n",
      "Enter your Department:  AI\n",
      "Enter your Phone Number:  7708890148\n",
      "Enter your College:  crescent\n",
      "Enter your Blood Group:  A1B\n",
      "Enter the website URL for the QR code:  https://www.instagram.com/itx_arshath/tagged/\n"
     ]
    },
    {
     "ename": "AttributeError",
     "evalue": "'Worksheet' object has no attribute 'cell'",
     "output_type": "error",
     "traceback": [
      "\u001b[1;31m---------------------------------------------------------------------------\u001b[0m",
      "\u001b[1;31mAttributeError\u001b[0m                            Traceback (most recent call last)",
      "Cell \u001b[1;32mIn[9], line 16\u001b[0m\n\u001b[0;32m     14\u001b[0m \u001b[38;5;66;03m# Store the details in the Excel file\u001b[39;00m\n\u001b[0;32m     15\u001b[0m details \u001b[38;5;241m=\u001b[39m [name, student_id, department, phone, college, blood_group, website_url]\n\u001b[1;32m---> 16\u001b[0m store_details_in_excel(details)\n\u001b[0;32m     18\u001b[0m \u001b[38;5;28mprint\u001b[39m(\u001b[38;5;124mf\u001b[39m\u001b[38;5;124m\"\u001b[39m\u001b[38;5;124mDetails have been stored in \u001b[39m\u001b[38;5;132;01m{\u001b[39;00mexcel_file\u001b[38;5;132;01m}\u001b[39;00m\u001b[38;5;124m. You can view the file anytime.\u001b[39m\u001b[38;5;124m\"\u001b[39m)\n",
      "Cell \u001b[1;32mIn[8], line 64\u001b[0m, in \u001b[0;36mstore_details_in_excel\u001b[1;34m(details, excel_file)\u001b[0m\n\u001b[0;32m     62\u001b[0m \u001b[38;5;66;03m# Find the first empty row in the file\u001b[39;00m\n\u001b[0;32m     63\u001b[0m row \u001b[38;5;241m=\u001b[39m \u001b[38;5;241m1\u001b[39m\n\u001b[1;32m---> 64\u001b[0m \u001b[38;5;28;01mwhile\u001b[39;00m worksheet\u001b[38;5;241m.\u001b[39mcell(row, \u001b[38;5;241m0\u001b[39m)\u001b[38;5;241m.\u001b[39mvalue:\n\u001b[0;32m     65\u001b[0m     row \u001b[38;5;241m+\u001b[39m\u001b[38;5;241m=\u001b[39m \u001b[38;5;241m1\u001b[39m\n\u001b[0;32m     67\u001b[0m \u001b[38;5;66;03m# Write the details to the next empty row\u001b[39;00m\n",
      "\u001b[1;31mAttributeError\u001b[0m: 'Worksheet' object has no attribute 'cell'"
     ]
    }
   ],
   "source": [
    "# Receive input from the user\n",
    "name = input(\"Enter your name: \")\n",
    "student_id = input(\"Enter your Student ID: \")\n",
    "department = input(\"Enter your Department: \")\n",
    "phone = input(\"Enter your Phone Number: \")\n",
    "college = input(\"Enter your College: \")\n",
    "blood_group = input(\"Enter your Blood Group: \")\n",
    "website_url = input(\"Enter the website URL for the QR code: \")\n",
    "\n",
    "# Generate and display the ID card\n",
    "id_card = generate_id_card(name, student_id, department, phone, college, blood_group, website_url)\n",
    "id_card.show()\n",
    "\n",
    "# Store the details in the Excel file\n",
    "details = [name, student_id, department, phone, college, blood_group, website_url]\n",
    "store_details_in_excel(details)\n",
    "\n",
    "print(f\"Details have been stored in {excel_file}. You can view the file anytime.\")"
   ]
  },
  {
   "cell_type": "code",
   "execution_count": null,
   "id": "9fd47774-0f28-48bc-a613-ad90be68bed8",
   "metadata": {},
   "outputs": [],
   "source": []
  }
 ],
 "metadata": {
  "kernelspec": {
   "display_name": "Python 3 (ipykernel)",
   "language": "python",
   "name": "python3"
  },
  "language_info": {
   "codemirror_mode": {
    "name": "ipython",
    "version": 3
   },
   "file_extension": ".py",
   "mimetype": "text/x-python",
   "name": "python",
   "nbconvert_exporter": "python",
   "pygments_lexer": "ipython3",
   "version": "3.12.4"
  }
 },
 "nbformat": 4,
 "nbformat_minor": 5
}
